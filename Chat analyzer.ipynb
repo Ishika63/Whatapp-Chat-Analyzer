{
 "cells": [
  {
   "cell_type": "code",
   "execution_count": 22,
   "id": "837f6b88-bcb5-4d2d-b820-2e770fda9c36",
   "metadata": {},
   "outputs": [],
   "source": [
    "import numpy as np\n",
    "import pandas as pd\n",
    "import re"
   ]
  },
  {
   "cell_type": "code",
   "execution_count": 23,
   "id": "f40c6a2c-8fc1-40ec-ac43-2e3c78b2f613",
   "metadata": {},
   "outputs": [],
   "source": [
    "f = open('WhatsApp Chat.txt',encoding='utf-8')\n",
    "data = f.read()"
   ]
  },
  {
   "cell_type": "code",
   "execution_count": 24,
   "id": "bc08a3f4-7a4f-4d7b-97b0-afa679d0a554",
   "metadata": {},
   "outputs": [],
   "source": [
    "pattern = '\\d{1,2}/\\d{1,2}/\\d{2},\\s\\d{1,2}:\\d{2}\\s'\n",
    "\n",
    "messages = re.split(pattern, data)[1:]\n",
    "dates = re.findall(pattern, data)"
   ]
  },
  {
   "cell_type": "code",
   "execution_count": 25,
   "id": "b221b059-1bda-4bfe-b819-3c5a7d227b90",
   "metadata": {},
   "outputs": [],
   "source": [
    "df = pd.DataFrame({'user_message': messages, 'message_date': dates})"
   ]
  },
  {
   "cell_type": "code",
   "execution_count": 26,
   "id": "3c0030a7-c615-4c7a-9511-7263c414edc4",
   "metadata": {},
   "outputs": [
    {
     "data": {
      "text/html": [
       "<div>\n",
       "<style scoped>\n",
       "    .dataframe tbody tr th:only-of-type {\n",
       "        vertical-align: middle;\n",
       "    }\n",
       "\n",
       "    .dataframe tbody tr th {\n",
       "        vertical-align: top;\n",
       "    }\n",
       "\n",
       "    .dataframe thead th {\n",
       "        text-align: right;\n",
       "    }\n",
       "</style>\n",
       "<table border=\"1\" class=\"dataframe\">\n",
       "  <thead>\n",
       "    <tr style=\"text-align: right;\">\n",
       "      <th></th>\n",
       "      <th>user_message</th>\n",
       "      <th>message_date</th>\n",
       "    </tr>\n",
       "  </thead>\n",
       "  <tbody>\n",
       "    <tr>\n",
       "      <th>0</th>\n",
       "      <td>AM - Shivam Singh Mtech Cse: Gaya\\n</td>\n",
       "      <td>8/9/21, 8:30</td>\n",
       "    </tr>\n",
       "    <tr>\n",
       "      <th>1</th>\n",
       "      <td>AM - Shivam Singh Mtech Cse: Wo\\n</td>\n",
       "      <td>8/9/21, 8:30</td>\n",
       "    </tr>\n",
       "    <tr>\n",
       "      <th>2</th>\n",
       "      <td>AM - Mrityunjay Mtech Cse: kaun  sa na hua jo ...</td>\n",
       "      <td>8/9/21, 8:31</td>\n",
       "    </tr>\n",
       "    <tr>\n",
       "      <th>3</th>\n",
       "      <td>AM - Ankit Sharma Mtech Cse: I and j bracket\\n</td>\n",
       "      <td>8/9/21, 8:31</td>\n",
       "    </tr>\n",
       "    <tr>\n",
       "      <th>4</th>\n",
       "      <td>AM - Shivam Singh Mtech Cse: Haan ho gaya\\n</td>\n",
       "      <td>8/9/21, 8:31</td>\n",
       "    </tr>\n",
       "  </tbody>\n",
       "</table>\n",
       "</div>"
      ],
      "text/plain": [
       "                                        user_message   message_date\n",
       "0                AM - Shivam Singh Mtech Cse: Gaya\\n  8/9/21, 8:30 \n",
       "1                  AM - Shivam Singh Mtech Cse: Wo\\n  8/9/21, 8:30 \n",
       "2  AM - Mrityunjay Mtech Cse: kaun  sa na hua jo ...  8/9/21, 8:31 \n",
       "3     AM - Ankit Sharma Mtech Cse: I and j bracket\\n  8/9/21, 8:31 \n",
       "4        AM - Shivam Singh Mtech Cse: Haan ho gaya\\n  8/9/21, 8:31 "
      ]
     },
     "execution_count": 26,
     "metadata": {},
     "output_type": "execute_result"
    }
   ],
   "source": [
    "df.head()"
   ]
  },
  {
   "cell_type": "code",
   "execution_count": 27,
   "id": "9636ffe9-6df0-49b3-8767-05a52993881b",
   "metadata": {},
   "outputs": [
    {
     "data": {
      "text/plain": [
       "0                  AM - Shivam Singh Mtech Cse: Gaya\\n\n",
       "1                    AM - Shivam Singh Mtech Cse: Wo\\n\n",
       "2    AM - Mrityunjay Mtech Cse: kaun  sa na hua jo ...\n",
       "3       AM - Ankit Sharma Mtech Cse: I and j bracket\\n\n",
       "4          AM - Shivam Singh Mtech Cse: Haan ho gaya\\n\n",
       "Name: user_message, dtype: object"
      ]
     },
     "execution_count": 27,
     "metadata": {},
     "output_type": "execute_result"
    }
   ],
   "source": [
    "df['user_message'][0:5]"
   ]
  },
  {
   "cell_type": "code",
   "execution_count": 28,
   "id": "dbd5b390-15ef-4c9f-9cd0-82f99e99da59",
   "metadata": {},
   "outputs": [],
   "source": [
    "df['user_message'] = df['user_message'].map(lambda x: x.lstrip('PM - '))\n",
    "df['user_message'] = df['user_message'].map(lambda x: x.lstrip('AM - '))"
   ]
  },
  {
   "cell_type": "code",
   "execution_count": 29,
   "id": "ac336c1f-ecba-4037-8e42-475a3675f9c0",
   "metadata": {},
   "outputs": [
    {
     "data": {
      "text/html": [
       "<div>\n",
       "<style scoped>\n",
       "    .dataframe tbody tr th:only-of-type {\n",
       "        vertical-align: middle;\n",
       "    }\n",
       "\n",
       "    .dataframe tbody tr th {\n",
       "        vertical-align: top;\n",
       "    }\n",
       "\n",
       "    .dataframe thead th {\n",
       "        text-align: right;\n",
       "    }\n",
       "</style>\n",
       "<table border=\"1\" class=\"dataframe\">\n",
       "  <thead>\n",
       "    <tr style=\"text-align: right;\">\n",
       "      <th></th>\n",
       "      <th>user_message</th>\n",
       "      <th>message_date</th>\n",
       "    </tr>\n",
       "  </thead>\n",
       "  <tbody>\n",
       "    <tr>\n",
       "      <th>0</th>\n",
       "      <td>Shivam Singh Mtech Cse: Gaya\\n</td>\n",
       "      <td>8/9/21, 8:30</td>\n",
       "    </tr>\n",
       "    <tr>\n",
       "      <th>1</th>\n",
       "      <td>Shivam Singh Mtech Cse: Wo\\n</td>\n",
       "      <td>8/9/21, 8:30</td>\n",
       "    </tr>\n",
       "    <tr>\n",
       "      <th>2</th>\n",
       "      <td>rityunjay Mtech Cse: kaun  sa na hua jo mai kru\\n</td>\n",
       "      <td>8/9/21, 8:31</td>\n",
       "    </tr>\n",
       "    <tr>\n",
       "      <th>3</th>\n",
       "      <td>nkit Sharma Mtech Cse: I and j bracket\\n</td>\n",
       "      <td>8/9/21, 8:31</td>\n",
       "    </tr>\n",
       "    <tr>\n",
       "      <th>4</th>\n",
       "      <td>Shivam Singh Mtech Cse: Haan ho gaya\\n</td>\n",
       "      <td>8/9/21, 8:31</td>\n",
       "    </tr>\n",
       "  </tbody>\n",
       "</table>\n",
       "</div>"
      ],
      "text/plain": [
       "                                        user_message   message_date\n",
       "0                     Shivam Singh Mtech Cse: Gaya\\n  8/9/21, 8:30 \n",
       "1                       Shivam Singh Mtech Cse: Wo\\n  8/9/21, 8:30 \n",
       "2  rityunjay Mtech Cse: kaun  sa na hua jo mai kru\\n  8/9/21, 8:31 \n",
       "3           nkit Sharma Mtech Cse: I and j bracket\\n  8/9/21, 8:31 \n",
       "4             Shivam Singh Mtech Cse: Haan ho gaya\\n  8/9/21, 8:31 "
      ]
     },
     "execution_count": 29,
     "metadata": {},
     "output_type": "execute_result"
    }
   ],
   "source": [
    "df.head()"
   ]
  },
  {
   "cell_type": "code",
   "execution_count": 30,
   "id": "f08bbdc3-a904-4fb0-95ca-b7f810f0ab2d",
   "metadata": {},
   "outputs": [
    {
     "name": "stderr",
     "output_type": "stream",
     "text": [
      "C:\\Users\\chokh\\AppData\\Local\\Temp\\ipykernel_36704\\1386241987.py:2: UserWarning: The argument 'infer_datetime_format' is deprecated and will be removed in a future version. A strict version of it is now the default, see https://pandas.pydata.org/pdeps/0004-consistent-to-datetime-parsing.html. You can safely remove this argument.\n",
      "  df['message_date'] = pd.to_datetime(df['message_date'], infer_datetime_format=True)\n",
      "C:\\Users\\chokh\\AppData\\Local\\Temp\\ipykernel_36704\\1386241987.py:2: UserWarning: Could not infer format, so each element will be parsed individually, falling back to `dateutil`. To ensure parsing is consistent and as-expected, please specify a format.\n",
      "  df['message_date'] = pd.to_datetime(df['message_date'], infer_datetime_format=True)\n"
     ]
    }
   ],
   "source": [
    "# convert message_date type\n",
    "df['message_date'] = pd.to_datetime(df['message_date'], infer_datetime_format=True)\n",
    "df['message_date'] = pd.to_datetime(df['message_date'], format='%m/%d/%y, %H:%M')\n",
    "df.rename(columns={'message_date': 'date'}, inplace=True)"
   ]
  },
  {
   "cell_type": "code",
   "execution_count": 31,
   "id": "80298b39-1310-477e-ab68-4d0cdfca5831",
   "metadata": {},
   "outputs": [
    {
     "data": {
      "text/html": [
       "<div>\n",
       "<style scoped>\n",
       "    .dataframe tbody tr th:only-of-type {\n",
       "        vertical-align: middle;\n",
       "    }\n",
       "\n",
       "    .dataframe tbody tr th {\n",
       "        vertical-align: top;\n",
       "    }\n",
       "\n",
       "    .dataframe thead th {\n",
       "        text-align: right;\n",
       "    }\n",
       "</style>\n",
       "<table border=\"1\" class=\"dataframe\">\n",
       "  <thead>\n",
       "    <tr style=\"text-align: right;\">\n",
       "      <th></th>\n",
       "      <th>user_message</th>\n",
       "      <th>date</th>\n",
       "    </tr>\n",
       "  </thead>\n",
       "  <tbody>\n",
       "    <tr>\n",
       "      <th>0</th>\n",
       "      <td>Shivam Singh Mtech Cse: Gaya\\n</td>\n",
       "      <td>2021-08-09 08:30:00</td>\n",
       "    </tr>\n",
       "    <tr>\n",
       "      <th>1</th>\n",
       "      <td>Shivam Singh Mtech Cse: Wo\\n</td>\n",
       "      <td>2021-08-09 08:30:00</td>\n",
       "    </tr>\n",
       "  </tbody>\n",
       "</table>\n",
       "</div>"
      ],
      "text/plain": [
       "                     user_message                date\n",
       "0  Shivam Singh Mtech Cse: Gaya\\n 2021-08-09 08:30:00\n",
       "1    Shivam Singh Mtech Cse: Wo\\n 2021-08-09 08:30:00"
      ]
     },
     "execution_count": 31,
     "metadata": {},
     "output_type": "execute_result"
    }
   ],
   "source": [
    "df.head(2)"
   ]
  },
  {
   "cell_type": "code",
   "execution_count": 32,
   "id": "6e791e00-f662-4a37-8a82-cbbc45a7748a",
   "metadata": {},
   "outputs": [],
   "source": [
    "users = []\n",
    "messages = []\n",
    "for message in df['user_message']:\n",
    "    entry = re.split('([\\w\\W]+?):\\s', message)\n",
    "    if entry[1:]:  # user name\n",
    "        users.append(entry[1])\n",
    "        messages.append(\" \".join(entry[2:]))\n",
    "    else:\n",
    "        users.append('group_notification')\n",
    "        messages.append(entry[0])\n",
    "\n",
    "df['user'] = users\n",
    "df['message'] = messages\n",
    "df.drop(columns=['user_message'], inplace=True)\n",
    "\n",
    "df['only_date'] = df['date'].dt.date\n",
    "df['year'] = df['date'].dt.year\n",
    "df['month_num'] = df['date'].dt.month\n",
    "df['month'] = df['date'].dt.month_name()\n",
    "df['day'] = df['date'].dt.day\n",
    "df['day_name'] = df['date'].dt.day_name()\n",
    "df['hour'] = df['date'].dt.hour\n",
    "df['minute'] = df['date'].dt.minute\n",
    "\n",
    "period = []\n",
    "for hour in df[['day_name', 'hour']]['hour']:\n",
    "    if hour == 23:\n",
    "        period.append(str(hour) + \"-\" + str('00'))\n",
    "    elif hour == 0:\n",
    "        period.append(str('00') + \"-\" + str(hour + 1))\n",
    "    else:\n",
    "        period.append(str(hour) + \"-\" + str(hour + 1))\n",
    "\n",
    "df['period'] = period"
   ]
  },
  {
   "cell_type": "code",
   "execution_count": 33,
   "id": "deedf3db-cdae-4a33-af84-c10e096a26e6",
   "metadata": {},
   "outputs": [
    {
     "data": {
      "text/html": [
       "<div>\n",
       "<style scoped>\n",
       "    .dataframe tbody tr th:only-of-type {\n",
       "        vertical-align: middle;\n",
       "    }\n",
       "\n",
       "    .dataframe tbody tr th {\n",
       "        vertical-align: top;\n",
       "    }\n",
       "\n",
       "    .dataframe thead th {\n",
       "        text-align: right;\n",
       "    }\n",
       "</style>\n",
       "<table border=\"1\" class=\"dataframe\">\n",
       "  <thead>\n",
       "    <tr style=\"text-align: right;\">\n",
       "      <th></th>\n",
       "      <th>date</th>\n",
       "      <th>user</th>\n",
       "      <th>message</th>\n",
       "      <th>only_date</th>\n",
       "      <th>year</th>\n",
       "      <th>month_num</th>\n",
       "      <th>month</th>\n",
       "      <th>day</th>\n",
       "      <th>day_name</th>\n",
       "      <th>hour</th>\n",
       "      <th>minute</th>\n",
       "      <th>period</th>\n",
       "    </tr>\n",
       "  </thead>\n",
       "  <tbody>\n",
       "    <tr>\n",
       "      <th>0</th>\n",
       "      <td>2021-08-09 08:30:00</td>\n",
       "      <td>Shivam Singh Mtech Cse</td>\n",
       "      <td>Gaya\\n</td>\n",
       "      <td>2021-08-09</td>\n",
       "      <td>2021</td>\n",
       "      <td>8</td>\n",
       "      <td>August</td>\n",
       "      <td>9</td>\n",
       "      <td>Monday</td>\n",
       "      <td>8</td>\n",
       "      <td>30</td>\n",
       "      <td>8-9</td>\n",
       "    </tr>\n",
       "    <tr>\n",
       "      <th>1</th>\n",
       "      <td>2021-08-09 08:30:00</td>\n",
       "      <td>Shivam Singh Mtech Cse</td>\n",
       "      <td>Wo\\n</td>\n",
       "      <td>2021-08-09</td>\n",
       "      <td>2021</td>\n",
       "      <td>8</td>\n",
       "      <td>August</td>\n",
       "      <td>9</td>\n",
       "      <td>Monday</td>\n",
       "      <td>8</td>\n",
       "      <td>30</td>\n",
       "      <td>8-9</td>\n",
       "    </tr>\n",
       "    <tr>\n",
       "      <th>2</th>\n",
       "      <td>2021-08-09 08:31:00</td>\n",
       "      <td>rityunjay Mtech Cse</td>\n",
       "      <td>kaun  sa na hua jo mai kru\\n</td>\n",
       "      <td>2021-08-09</td>\n",
       "      <td>2021</td>\n",
       "      <td>8</td>\n",
       "      <td>August</td>\n",
       "      <td>9</td>\n",
       "      <td>Monday</td>\n",
       "      <td>8</td>\n",
       "      <td>31</td>\n",
       "      <td>8-9</td>\n",
       "    </tr>\n",
       "    <tr>\n",
       "      <th>3</th>\n",
       "      <td>2021-08-09 08:31:00</td>\n",
       "      <td>nkit Sharma Mtech Cse</td>\n",
       "      <td>I and j bracket\\n</td>\n",
       "      <td>2021-08-09</td>\n",
       "      <td>2021</td>\n",
       "      <td>8</td>\n",
       "      <td>August</td>\n",
       "      <td>9</td>\n",
       "      <td>Monday</td>\n",
       "      <td>8</td>\n",
       "      <td>31</td>\n",
       "      <td>8-9</td>\n",
       "    </tr>\n",
       "    <tr>\n",
       "      <th>4</th>\n",
       "      <td>2021-08-09 08:31:00</td>\n",
       "      <td>Shivam Singh Mtech Cse</td>\n",
       "      <td>Haan ho gaya\\n</td>\n",
       "      <td>2021-08-09</td>\n",
       "      <td>2021</td>\n",
       "      <td>8</td>\n",
       "      <td>August</td>\n",
       "      <td>9</td>\n",
       "      <td>Monday</td>\n",
       "      <td>8</td>\n",
       "      <td>31</td>\n",
       "      <td>8-9</td>\n",
       "    </tr>\n",
       "  </tbody>\n",
       "</table>\n",
       "</div>"
      ],
      "text/plain": [
       "                 date                    user                       message  \\\n",
       "0 2021-08-09 08:30:00  Shivam Singh Mtech Cse                        Gaya\\n   \n",
       "1 2021-08-09 08:30:00  Shivam Singh Mtech Cse                          Wo\\n   \n",
       "2 2021-08-09 08:31:00     rityunjay Mtech Cse  kaun  sa na hua jo mai kru\\n   \n",
       "3 2021-08-09 08:31:00   nkit Sharma Mtech Cse             I and j bracket\\n   \n",
       "4 2021-08-09 08:31:00  Shivam Singh Mtech Cse                Haan ho gaya\\n   \n",
       "\n",
       "    only_date  year  month_num   month  day day_name  hour  minute period  \n",
       "0  2021-08-09  2021          8  August    9   Monday     8      30    8-9  \n",
       "1  2021-08-09  2021          8  August    9   Monday     8      30    8-9  \n",
       "2  2021-08-09  2021          8  August    9   Monday     8      31    8-9  \n",
       "3  2021-08-09  2021          8  August    9   Monday     8      31    8-9  \n",
       "4  2021-08-09  2021          8  August    9   Monday     8      31    8-9  "
      ]
     },
     "execution_count": 33,
     "metadata": {},
     "output_type": "execute_result"
    }
   ],
   "source": [
    "df.head()"
   ]
  },
  {
   "cell_type": "markdown",
   "id": "52dc828a-ff77-4f4b-8894-68666b72f230",
   "metadata": {},
   "source": [
    "## Code analyzing\r\n"
   ]
  },
  {
   "cell_type": "code",
   "execution_count": 34,
   "id": "68de266b-fb8b-40ed-8cd2-7f72aaed5159",
   "metadata": {},
   "outputs": [
    {
     "data": {
      "text/plain": [
       "30    Govind Narayan Mtech Cse\n",
       "31         rityunjay Mtech Cse\n",
       "32      Shivam Singh Mtech Cse\n",
       "33                 Rajiv Kumar\n",
       "34         rityunjay Mtech Cse\n",
       "                ...           \n",
       "95      Shivam Singh Mtech Cse\n",
       "96    Govind Narayan Mtech Cse\n",
       "97      Shivam Singh Mtech Cse\n",
       "98      Shivam Singh Mtech Cse\n",
       "99      Shivam Singh Mtech Cse\n",
       "Name: user, Length: 70, dtype: object"
      ]
     },
     "execution_count": 34,
     "metadata": {},
     "output_type": "execute_result"
    }
   ],
   "source": [
    "df['user'][30:100]"
   ]
  },
  {
   "cell_type": "code",
   "execution_count": 35,
   "id": "e7c0b55a-8c5c-4119-b333-d99d4e66df4b",
   "metadata": {},
   "outputs": [
    {
     "data": {
      "text/plain": [
       "39999"
      ]
     },
     "execution_count": 35,
     "metadata": {},
     "output_type": "execute_result"
    }
   ],
   "source": [
    "# fetch the number of messages\n",
    "num_messages = df.shape[0]\n",
    "num_messages"
   ]
  },
  {
   "cell_type": "code",
   "execution_count": 36,
   "id": "3a30032b-8144-46f0-a4bc-12f10786d81e",
   "metadata": {},
   "outputs": [],
   "source": [
    "# fetch number of media messages\n",
    "num_media_messages = df[df['message'] == '<Media omitted>\\n'].shape[0]"
   ]
  },
  {
   "cell_type": "code",
   "execution_count": 37,
   "id": "9f7a5669-15de-4c93-8d04-55b31db6792e",
   "metadata": {},
   "outputs": [
    {
     "data": {
      "text/plain": [
       "5672"
      ]
     },
     "execution_count": 37,
     "metadata": {},
     "output_type": "execute_result"
    }
   ],
   "source": [
    "num_media_messages"
   ]
  },
  {
   "cell_type": "code",
   "execution_count": 39,
   "id": "2634a2c0-b887-4567-ab5c-83843a57f05e",
   "metadata": {},
   "outputs": [],
   "source": [
    "# most busy user\n",
    "x = df['user'].value_counts().head()"
   ]
  },
  {
   "cell_type": "code",
   "execution_count": 40,
   "id": "07263389-97ff-4ff4-b419-5221b61f22e7",
   "metadata": {},
   "outputs": [
    {
     "data": {
      "text/plain": [
       "user\n",
       "Shivam Singh Mtech Cse    13003\n",
       "rityunjay Mtech Cse        6035\n",
       "nkit Sharma Mtech Cse      5321\n",
       "Ravish Mtech Cse           3385\n",
       "Karamveer Mtech Cse        3041\n",
       "Name: count, dtype: int64"
      ]
     },
     "execution_count": 40,
     "metadata": {},
     "output_type": "execute_result"
    }
   ],
   "source": [
    "x"
   ]
  },
  {
   "cell_type": "code",
   "execution_count": 41,
   "id": "c4d4c607-c9c8-4ce8-bbe9-4ef66d5a3190",
   "metadata": {},
   "outputs": [],
   "source": [
    "df = round((df['user'].value_counts() / df.shape[0]) * 100, 2).reset_index().rename(\n",
    "        columns={'index': 'name', 'user': 'percent'})"
   ]
  },
  {
   "cell_type": "code",
   "execution_count": 42,
   "id": "672f8065-1271-4e55-967d-91259478a700",
   "metadata": {},
   "outputs": [
    {
     "data": {
      "text/html": [
       "<div>\n",
       "<style scoped>\n",
       "    .dataframe tbody tr th:only-of-type {\n",
       "        vertical-align: middle;\n",
       "    }\n",
       "\n",
       "    .dataframe tbody tr th {\n",
       "        vertical-align: top;\n",
       "    }\n",
       "\n",
       "    .dataframe thead th {\n",
       "        text-align: right;\n",
       "    }\n",
       "</style>\n",
       "<table border=\"1\" class=\"dataframe\">\n",
       "  <thead>\n",
       "    <tr style=\"text-align: right;\">\n",
       "      <th></th>\n",
       "      <th>percent</th>\n",
       "      <th>count</th>\n",
       "    </tr>\n",
       "  </thead>\n",
       "  <tbody>\n",
       "    <tr>\n",
       "      <th>0</th>\n",
       "      <td>Shivam Singh Mtech Cse</td>\n",
       "      <td>32.51</td>\n",
       "    </tr>\n",
       "    <tr>\n",
       "      <th>1</th>\n",
       "      <td>rityunjay Mtech Cse</td>\n",
       "      <td>15.09</td>\n",
       "    </tr>\n",
       "    <tr>\n",
       "      <th>2</th>\n",
       "      <td>nkit Sharma Mtech Cse</td>\n",
       "      <td>13.30</td>\n",
       "    </tr>\n",
       "    <tr>\n",
       "      <th>3</th>\n",
       "      <td>Ravish Mtech Cse</td>\n",
       "      <td>8.46</td>\n",
       "    </tr>\n",
       "    <tr>\n",
       "      <th>4</th>\n",
       "      <td>Karamveer Mtech Cse</td>\n",
       "      <td>7.60</td>\n",
       "    </tr>\n",
       "    <tr>\n",
       "      <th>5</th>\n",
       "      <td>Govind Narayan Mtech Cse</td>\n",
       "      <td>6.39</td>\n",
       "    </tr>\n",
       "    <tr>\n",
       "      <th>6</th>\n",
       "      <td>Rishabh Mtech Cse</td>\n",
       "      <td>4.25</td>\n",
       "    </tr>\n",
       "    <tr>\n",
       "      <th>7</th>\n",
       "      <td>ranav Mtech Cse</td>\n",
       "      <td>2.84</td>\n",
       "    </tr>\n",
       "    <tr>\n",
       "      <th>8</th>\n",
       "      <td>Deepak Prajapat Mtech Cse</td>\n",
       "      <td>1.94</td>\n",
       "    </tr>\n",
       "    <tr>\n",
       "      <th>9</th>\n",
       "      <td>itranshu Mtech Cse</td>\n",
       "      <td>1.78</td>\n",
       "    </tr>\n",
       "    <tr>\n",
       "      <th>10</th>\n",
       "      <td>ankaj Panwar</td>\n",
       "      <td>1.60</td>\n",
       "    </tr>\n",
       "    <tr>\n",
       "      <th>11</th>\n",
       "      <td>Rajiv Kumar</td>\n",
       "      <td>1.46</td>\n",
       "    </tr>\n",
       "    <tr>\n",
       "      <th>12</th>\n",
       "      <td>Pranav Mtech Cse</td>\n",
       "      <td>0.67</td>\n",
       "    </tr>\n",
       "    <tr>\n",
       "      <th>13</th>\n",
       "      <td>rajwall Mtech Cse</td>\n",
       "      <td>0.54</td>\n",
       "    </tr>\n",
       "    <tr>\n",
       "      <th>14</th>\n",
       "      <td>Pankaj Panwar</td>\n",
       "      <td>0.53</td>\n",
       "    </tr>\n",
       "    <tr>\n",
       "      <th>15</th>\n",
       "      <td>ditya Kunwar Mtech Cse</td>\n",
       "      <td>0.41</td>\n",
       "    </tr>\n",
       "    <tr>\n",
       "      <th>16</th>\n",
       "      <td>Prajwall Mtech Cse</td>\n",
       "      <td>0.27</td>\n",
       "    </tr>\n",
       "    <tr>\n",
       "      <th>17</th>\n",
       "      <td>ditya Gupta Mtech Cse</td>\n",
       "      <td>0.22</td>\n",
       "    </tr>\n",
       "    <tr>\n",
       "      <th>18</th>\n",
       "      <td>ditya Chauhan Mtech Cse</td>\n",
       "      <td>0.11</td>\n",
       "    </tr>\n",
       "    <tr>\n",
       "      <th>19</th>\n",
       "      <td>group_notification</td>\n",
       "      <td>0.04</td>\n",
       "    </tr>\n",
       "    <tr>\n",
       "      <th>20</th>\n",
       "      <td>+91 84158 34187</td>\n",
       "      <td>0.01</td>\n",
       "    </tr>\n",
       "  </tbody>\n",
       "</table>\n",
       "</div>"
      ],
      "text/plain": [
       "                      percent  count\n",
       "0      Shivam Singh Mtech Cse  32.51\n",
       "1         rityunjay Mtech Cse  15.09\n",
       "2       nkit Sharma Mtech Cse  13.30\n",
       "3            Ravish Mtech Cse   8.46\n",
       "4         Karamveer Mtech Cse   7.60\n",
       "5    Govind Narayan Mtech Cse   6.39\n",
       "6           Rishabh Mtech Cse   4.25\n",
       "7             ranav Mtech Cse   2.84\n",
       "8   Deepak Prajapat Mtech Cse   1.94\n",
       "9          itranshu Mtech Cse   1.78\n",
       "10               ankaj Panwar   1.60\n",
       "11                Rajiv Kumar   1.46\n",
       "12           Pranav Mtech Cse   0.67\n",
       "13          rajwall Mtech Cse   0.54\n",
       "14              Pankaj Panwar   0.53\n",
       "15     ditya Kunwar Mtech Cse   0.41\n",
       "16         Prajwall Mtech Cse   0.27\n",
       "17      ditya Gupta Mtech Cse   0.22\n",
       "18    ditya Chauhan Mtech Cse   0.11\n",
       "19         group_notification   0.04\n",
       "20            +91 84158 34187   0.01"
      ]
     },
     "execution_count": 42,
     "metadata": {},
     "output_type": "execute_result"
    }
   ],
   "source": [
    "df"
   ]
  }
 ],
 "metadata": {
  "kernelspec": {
   "display_name": "Python 3 (ipykernel)",
   "language": "python",
   "name": "python3"
  },
  "language_info": {
   "codemirror_mode": {
    "name": "ipython",
    "version": 3
   },
   "file_extension": ".py",
   "mimetype": "text/x-python",
   "name": "python",
   "nbconvert_exporter": "python",
   "pygments_lexer": "ipython3",
   "version": "3.11.4"
  }
 },
 "nbformat": 4,
 "nbformat_minor": 5
}
